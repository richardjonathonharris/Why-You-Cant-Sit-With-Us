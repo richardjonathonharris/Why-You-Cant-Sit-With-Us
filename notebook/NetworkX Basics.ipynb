{
 "cells": [
  {
   "cell_type": "markdown",
   "metadata": {},
   "source": [
    "#Let's make our first Network in NetworkX!"
   ]
  },
  {
   "cell_type": "markdown",
   "metadata": {},
   "source": [
    "###Basic Imports"
   ]
  },
  {
   "cell_type": "code",
   "execution_count": null,
   "metadata": {
    "collapsed": true
   },
   "outputs": [],
   "source": [
    "import networkx as nx\n",
    "%matplotlib inline\n",
    "import matplotlib\n",
    "import matplotlib.pyplot as plt\n",
    "matplotlib.rcParams['figure.figsize'] = (30.0, 20.0)\n",
    "from IPython.display import YouTubeVideo"
   ]
  },
  {
   "cell_type": "markdown",
   "metadata": {},
   "source": [
    "Let's pick one scene that really highlights why network analysis is important"
   ]
  },
  {
   "cell_type": "code",
   "execution_count": null,
   "metadata": {
    "collapsed": false,
    "scrolled": true
   },
   "outputs": [],
   "source": [
    "YouTubeVideo(\"xw9wY4u3BgU\")"
   ]
  },
  {
   "cell_type": "markdown",
   "metadata": {},
   "source": [
    "Let's map this out. First, let's make a list of all of the characters in this scene. NetworkX can take an iterable container of nodes (in this case, we'll pass a list)."
   ]
  },
  {
   "cell_type": "code",
   "execution_count": null,
   "metadata": {
    "collapsed": true
   },
   "outputs": [],
   "source": [
    "list_of_characters = [\n",
    "    'Cady',\n",
    "    'Regina',\n",
    "    'Gretchen',\n",
    "    'Karen',\n",
    "    'Jason',\n",
    "    'Taylor',\n",
    "    'Mrs. Wedell'\n",
    "]"
   ]
  },
  {
   "cell_type": "markdown",
   "metadata": {},
   "source": [
    "Next, we need a list of interactions between characters. For most of this presentation we'll only be using actual conversation between characters, but we'll fudge that rule for dramatic effect here.\n",
    "\n",
    "NetworkX generally expects a list of tuples to generate edges, where each tuple is one interaction between two nodes. If there are interactions between a group, you'll need to pass however many pair-interactions necessary to map it."
   ]
  },
  {
   "cell_type": "code",
   "execution_count": null,
   "metadata": {
    "collapsed": false
   },
   "outputs": [],
   "source": [
    "interactions = [\n",
    "    ('Cady', 'Regina'),\n",
    "    ('Cady', 'Gretchen'),\n",
    "    ('Cady', 'Karen'),\n",
    "    ('Regina', 'Gretchen'),\n",
    "    ('Regina', 'Karen'),\n",
    "    ('Gretchen', 'Karen'),\n",
    "    ('Jason', 'Taylor'),\n",
    "    ('Regina', 'Mrs. Wedell'),\n",
    "    ('Mrs. Wedell', 'Taylor'),\n",
    "    ('Jason', 'Gretchen')\n",
    "]"
   ]
  },
  {
   "cell_type": "markdown",
   "metadata": {},
   "source": [
    "We need to instantiate a NetworkX Graph object to generate our actual graph, then load in the nodes and edges."
   ]
  },
  {
   "cell_type": "code",
   "execution_count": null,
   "metadata": {
    "collapsed": false
   },
   "outputs": [],
   "source": [
    "mall = nx.Graph()\n",
    "mall.add_nodes_from(list_of_characters)\n",
    "mall.add_edges_from(interactions)"
   ]
  },
  {
   "cell_type": "markdown",
   "metadata": {},
   "source": [
    "Let's look at some basic statistics on our network"
   ]
  },
  {
   "cell_type": "markdown",
   "metadata": {},
   "source": [
    "##Centrality"
   ]
  },
  {
   "cell_type": "code",
   "execution_count": null,
   "metadata": {
    "collapsed": false,
    "scrolled": false
   },
   "outputs": [],
   "source": [
    "print nx.info(mall)"
   ]
  },
  {
   "cell_type": "code",
   "execution_count": null,
   "metadata": {
    "collapsed": false
   },
   "outputs": [],
   "source": [
    "pos = nx.spring_layout(mall)\n",
    "\n",
    "nx.draw_networkx_nodes(mall, pos, node_size=40000, node_color='aqua', linewidths=0)\n",
    "nx.draw_networkx_edges(mall, pos, edge_color='gray', width=5)\n",
    "nx.draw_networkx_labels(mall, pos, font_size=32)\n",
    "plt.axis('off')\n",
    "plt.tight_layout()"
   ]
  },
  {
   "cell_type": "markdown",
   "metadata": {},
   "source": [
    "So we have a network with 7 nodes, 10 edges between those nodes, and each node is connected to 2.85 other nodes. What's the distribution of degrees?"
   ]
  },
  {
   "cell_type": "code",
   "execution_count": null,
   "metadata": {
    "collapsed": false
   },
   "outputs": [],
   "source": [
    "nx.degree(mall)"
   ]
  },
  {
   "cell_type": "markdown",
   "metadata": {},
   "source": [
    "What's the center of this network? \n",
    "\n",
    "Degree Centrality gives us the fraction of all nodes that a given node is connected to, normalized by the maximum possible degree in the graph. In other words, it looks something like:\n",
    "\n",
    "$$centrality_{degree} = \\frac{U_i}{N-1}$$\n",
    "\n",
    "where $N$ is the number of nodes in the graph and $U_i$ is a specific node"
   ]
  },
  {
   "cell_type": "code",
   "execution_count": null,
   "metadata": {
    "collapsed": false
   },
   "outputs": [],
   "source": [
    "degree_centrality = nx.degree_centrality(mall)\n",
    "degree_centrality"
   ]
  },
  {
   "cell_type": "markdown",
   "metadata": {},
   "source": [
    "So, Regina George and Gretchen Weiners have the highest degree centrality. They're most connected directly to the most people. \n",
    "\n",
    "We could also use closeness centrality. Closeness centrality uses the shortest path between all other nodes to one specific one. \n",
    "\n",
    "$$centrality_{closeness} = \\frac{n - 1}{\\sum^{n-1}_{v=1}d(v,u)}$$\n",
    "\n",
    "where $n - 1$ is the the number of nodes in the graph (minus one) and $\\sum^{n-1}_{v=1}d(v,u)$ is the sum of all the shortest paths from every other node to node $u$"
   ]
  },
  {
   "cell_type": "code",
   "execution_count": null,
   "metadata": {
    "collapsed": false
   },
   "outputs": [],
   "source": [
    "closeness_centrality = nx.closeness_centrality(mall)\n",
    "closeness_centrality"
   ]
  },
  {
   "cell_type": "markdown",
   "metadata": {},
   "source": [
    "So, Regina and Gretchen have the highest closeness centrality. Why does this make sense?\n",
    "\n",
    "We could also use betweeness centrality. Betweeness centrality essentially asks \"How often is the shortest path between two nodes involve this one?\"\n",
    "\n",
    "We find betweeness centrality by summing up the number of shortest paths between every pair of nodes that passes through the node in question, divided by the number of shortest paths between every pair of nodes.\n",
    "\n",
    "$$centrality_{betweeness} = \\sum\\limits_{s,t\\in V}\\frac{\\sigma(s, t | v)}{\\sigma(s, t)}$$\n",
    "\n",
    "where $s$ and $t$ are any two other ndoes, $\\sigma(s, t | v)$ is the number of all shortest paths between $s$ and $t$  that go through the node in question ($v$) and $\\sigma(s, t)$ is the number of shortest paths between $s$ and $t$ overall."
   ]
  },
  {
   "cell_type": "code",
   "execution_count": null,
   "metadata": {
    "collapsed": false
   },
   "outputs": [],
   "source": [
    "betweenness_centrality = nx.betweenness_centrality(mall)\n",
    "betweenness_centrality"
   ]
  },
  {
   "cell_type": "markdown",
   "metadata": {},
   "source": [
    "So, again, Regina George and Gretchen are the most \"central.\" Why?"
   ]
  },
  {
   "cell_type": "markdown",
   "metadata": {},
   "source": [
    "##Connectedness"
   ]
  },
  {
   "cell_type": "markdown",
   "metadata": {},
   "source": [
    "If all the nodes are connected to each other, the graph is connected. If not, it's disconnected"
   ]
  },
  {
   "cell_type": "code",
   "execution_count": null,
   "metadata": {
    "collapsed": false
   },
   "outputs": [],
   "source": [
    "nx.is_connected(mall)"
   ]
  },
  {
   "cell_type": "code",
   "execution_count": null,
   "metadata": {
    "collapsed": false
   },
   "outputs": [],
   "source": [
    "nx.number_connected_components(mall)"
   ]
  },
  {
   "cell_type": "code",
   "execution_count": null,
   "metadata": {
    "collapsed": false
   },
   "outputs": [],
   "source": [
    "nx.isolates(mall)"
   ]
  },
  {
   "cell_type": "markdown",
   "metadata": {
    "collapsed": true
   },
   "source": [
    "##Node Removal\n",
    "\n",
    "The network looks very different before Regina calls Mrs. Wedell"
   ]
  },
  {
   "cell_type": "code",
   "execution_count": null,
   "metadata": {
    "collapsed": false
   },
   "outputs": [],
   "source": [
    "mall_pre_phonecall = nx.Graph()\n",
    "mall_pre_phonecall.add_nodes_from(list_of_characters)\n",
    "interactions.remove(('Regina', 'Mrs. Wedell'))\n",
    "mall_pre_phonecall.add_edges_from(interactions)"
   ]
  },
  {
   "cell_type": "code",
   "execution_count": null,
   "metadata": {
    "collapsed": false
   },
   "outputs": [],
   "source": [
    "print nx.info(mall_pre_phonecall)"
   ]
  },
  {
   "cell_type": "markdown",
   "metadata": {},
   "source": [
    "So, with one edge being dropped, there's a 0.3 drop in the average degree as well. What does the network look like now?"
   ]
  },
  {
   "cell_type": "code",
   "execution_count": null,
   "metadata": {
    "collapsed": false
   },
   "outputs": [],
   "source": [
    "pos = nx.circular_layout(mall_pre_phonecall)\n",
    "\n",
    "nx.draw_networkx_nodes(mall_pre_phonecall, pos, node_size=40000, node_color='aqua', linewidths=0)\n",
    "nx.draw_networkx_edges(mall_pre_phonecall, pos, edge_color='gray', width=5)\n",
    "nx.draw_networkx_labels(mall_pre_phonecall, pos, font_size=32)\n",
    "plt.axis('off')\n",
    "plt.tight_layout()"
   ]
  },
  {
   "cell_type": "markdown",
   "metadata": {},
   "source": [
    "All of a sudden there's a much longer tail on the network. What does this mean for our various measures of centrality?"
   ]
  },
  {
   "cell_type": "code",
   "execution_count": null,
   "metadata": {
    "collapsed": false
   },
   "outputs": [],
   "source": [
    "nx.degree_centrality(mall_pre_phonecall)"
   ]
  },
  {
   "cell_type": "code",
   "execution_count": null,
   "metadata": {
    "collapsed": false
   },
   "outputs": [],
   "source": [
    "nx.closeness_centrality(mall_pre_phonecall)"
   ]
  },
  {
   "cell_type": "code",
   "execution_count": null,
   "metadata": {
    "collapsed": false
   },
   "outputs": [],
   "source": [
    "nx.betweenness_centrality(mall_pre_phonecall)"
   ]
  },
  {
   "cell_type": "markdown",
   "metadata": {},
   "source": [
    "So, Gretchen is now the most central node in this network. In fact, she serves as a broker here, connecting the sub-networks of Jason-Taylor-Mrs. Wedell and the Plastics. "
   ]
  },
  {
   "cell_type": "code",
   "execution_count": null,
   "metadata": {
    "collapsed": false
   },
   "outputs": [],
   "source": [
    "mall_without_gretchen = nx.Graph()\n",
    "list_of_characters.remove('Gretchen')\n",
    "interactions.remove(('Cady', 'Gretchen'))\n",
    "interactions.remove(('Regina', 'Gretchen'))\n",
    "interactions.remove(('Gretchen', 'Karen'))\n",
    "interactions.remove(('Jason', 'Gretchen'))\n",
    "mall_without_gretchen.add_nodes_from(list_of_characters)\n",
    "mall_without_gretchen.add_edges_from(interactions)"
   ]
  },
  {
   "cell_type": "code",
   "execution_count": null,
   "metadata": {
    "collapsed": false
   },
   "outputs": [],
   "source": [
    "print nx.info(mall_without_gretchen)"
   ]
  },
  {
   "cell_type": "code",
   "execution_count": null,
   "metadata": {
    "collapsed": false
   },
   "outputs": [],
   "source": [
    "pos = nx.circular_layout(mall_without_gretchen)\n",
    "\n",
    "nx.draw_networkx_nodes(mall_without_gretchen, pos, node_size=40000, node_color='aqua', linewidths=0)\n",
    "nx.draw_networkx_edges(mall_without_gretchen, pos, edge_color='gray', width=5)\n",
    "nx.draw_networkx_labels(mall_without_gretchen, pos, font_size=32)\n",
    "plt.axis('off')\n",
    "plt.tight_layout()"
   ]
  },
  {
   "cell_type": "code",
   "execution_count": null,
   "metadata": {
    "collapsed": true
   },
   "outputs": [],
   "source": []
  }
 ],
 "metadata": {
  "kernelspec": {
   "display_name": "Python 2",
   "language": "python",
   "name": "python2"
  },
  "language_info": {
   "codemirror_mode": {
    "name": "ipython",
    "version": 2
   },
   "file_extension": ".py",
   "mimetype": "text/x-python",
   "name": "python",
   "nbconvert_exporter": "python",
   "pygments_lexer": "ipython2",
   "version": "2.7.10"
  }
 },
 "nbformat": 4,
 "nbformat_minor": 0
}
